{
 "cells": [
  {
   "cell_type": "code",
   "execution_count": 1,
   "metadata": {},
   "outputs": [],
   "source": [
    "import os"
   ]
  },
  {
   "cell_type": "code",
   "execution_count": 2,
   "metadata": {},
   "outputs": [
    {
     "data": {
      "text/plain": [
       "'C:\\\\TkacheniaAV\\\\BSU\\\\multimedia_course_python\\\\src\\\\HelperFunctions'"
      ]
     },
     "execution_count": 2,
     "metadata": {},
     "output_type": "execute_result"
    }
   ],
   "source": [
    "os.getcwd()"
   ]
  },
  {
   "cell_type": "code",
   "execution_count": 3,
   "metadata": {},
   "outputs": [
    {
     "data": {
      "text/plain": [
       "'C:\\\\TkacheniaAV\\\\BSU\\\\multimedia_course_python'"
      ]
     },
     "execution_count": 3,
     "metadata": {},
     "output_type": "execute_result"
    }
   ],
   "source": [
    "ROOT_FOLDER = os.path.abspath(os.path.join(os.getcwd(), '..', '..'))\n",
    "ROOT_FOLDER"
   ]
  },
  {
   "cell_type": "code",
   "execution_count": 4,
   "metadata": {},
   "outputs": [],
   "source": [
    "import sys"
   ]
  },
  {
   "cell_type": "code",
   "execution_count": 5,
   "metadata": {},
   "outputs": [],
   "source": [
    "sys.path.append(ROOT_FOLDER)"
   ]
  },
  {
   "cell_type": "markdown",
   "metadata": {},
   "source": [
    "---"
   ]
  },
  {
   "cell_type": "code",
   "execution_count": 6,
   "metadata": {},
   "outputs": [],
   "source": [
    "import numpy as np"
   ]
  },
  {
   "cell_type": "code",
   "execution_count": 7,
   "metadata": {},
   "outputs": [],
   "source": [
    "from package.utils.students import get_student_ids"
   ]
  },
  {
   "cell_type": "code",
   "execution_count": 8,
   "metadata": {},
   "outputs": [],
   "source": [
    "%load_ext autoreload\n",
    "%autoreload 2"
   ]
  },
  {
   "cell_type": "markdown",
   "metadata": {},
   "source": [
    "---"
   ]
  },
  {
   "cell_type": "code",
   "execution_count": 9,
   "metadata": {},
   "outputs": [
    {
     "data": {
      "text/plain": [
       "(['21_15_01',\n",
       "  '21_15_02',\n",
       "  '21_15_03',\n",
       "  '21_15_04',\n",
       "  '21_15_05',\n",
       "  '21_15_06',\n",
       "  '21_15_07',\n",
       "  '21_15_08',\n",
       "  '21_15_09',\n",
       "  '21_15_10',\n",
       "  '21_15_11',\n",
       "  '21_15_12',\n",
       "  '21_15_13',\n",
       "  '21_15_14',\n",
       "  '21_15_15',\n",
       "  '21_15_16',\n",
       "  '21_15_17',\n",
       "  '21_15_18',\n",
       "  '21_15_19',\n",
       "  '21_15_20',\n",
       "  '21_15_21',\n",
       "  '21_15_22',\n",
       "  '21_15_23',\n",
       "  '21_15_24'],\n",
       " ['21_67_01',\n",
       "  '21_67_02',\n",
       "  '21_67_03',\n",
       "  '21_67_04',\n",
       "  '21_67_05',\n",
       "  '21_67_06',\n",
       "  '21_67_07',\n",
       "  '21_67_08',\n",
       "  '21_67_09',\n",
       "  '21_67_10',\n",
       "  '21_67_11',\n",
       "  '21_67_12',\n",
       "  '21_67_13',\n",
       "  '21_67_14',\n",
       "  '21_67_15',\n",
       "  '21_67_16',\n",
       "  '21_67_17',\n",
       "  '21_67_18',\n",
       "  '21_67_19',\n",
       "  '21_67_20',\n",
       "  '21_67_21'])"
      ]
     },
     "execution_count": 9,
     "metadata": {},
     "output_type": "execute_result"
    }
   ],
   "source": [
    "get_student_ids(24, prefix='21_15'), get_student_ids(21, prefix='21_67')"
   ]
  },
  {
   "cell_type": "code",
   "execution_count": 10,
   "metadata": {},
   "outputs": [],
   "source": [
    "LISTED_STUDENTS = [\n",
    "    '21_15_01',\n",
    "    '21_15_02',\n",
    "    '21_15_03',\n",
    "    #'21_15_04',\n",
    "    '21_15_05',\n",
    "    '21_15_06',\n",
    "    #'21_15_07',\n",
    "    #'21_15_08',\n",
    "    '21_15_09',\n",
    "    '21_15_10',\n",
    "    #'21_15_11',\n",
    "    '21_15_12',\n",
    "    '21_15_13',\n",
    "    #'21_15_14',\n",
    "    #'21_15_15',\n",
    "    #'21_15_16',\n",
    "    '21_15_17',\n",
    "    '21_15_18',\n",
    "    #'21_15_19',\n",
    "    '21_15_20',\n",
    "    '21_15_21',\n",
    "    #'21_15_22',\n",
    "    #'21_15_23',\n",
    "    '21_15_24',\n",
    "    #'21_67_01',\n",
    "    #'21_67_02',\n",
    "    #'21_67_03',\n",
    "    #'21_67_04',\n",
    "    '21_67_05',\n",
    "    '21_67_06',\n",
    "    #'21_67_07',\n",
    "    '21_67_08',\n",
    "    #'21_67_09',\n",
    "    '21_67_10',\n",
    "    #'21_67_11',\n",
    "    '21_67_12',\n",
    "    '21_67_13',\n",
    "    #'21_67_14',\n",
    "    #'21_67_15',\n",
    "    #'21_67_16',\n",
    "    #'21_67_17',\n",
    "    #'21_67_18',\n",
    "    #'21_67_19',\n",
    "    #'21_67_20',\n",
    "    #'21_67_21'\n",
    "]\n",
    "\n",
    "EXCLUDE_STUDENTS = [\n",
    "    '21_15_03',\n",
    "    '21_67_06',\n",
    "]\n",
    "\n",
    "LISTED_N_STUDENTS = len(LISTED_STUDENTS) - len(EXCLUDE_STUDENTS)\n",
    "ACTUAL_ATTENDED_LECTURE_N_STUDENTS = 13"
   ]
  },
  {
   "cell_type": "code",
   "execution_count": 11,
   "metadata": {},
   "outputs": [
    {
     "name": "stdout",
     "output_type": "stream",
     "text": [
      "Number of Students with cheater(s): 18\n",
      "Random cheater(s):\n",
      "['21_67_08' '21_15_17' '21_15_20' '21_15_12' '21_15_09']\n"
     ]
    }
   ],
   "source": [
    "students = np.asarray(list(set(LISTED_STUDENTS) - set(EXCLUDE_STUDENTS)))\n",
    "\n",
    "np.random.seed(20220329)\n",
    "index = np.random.choice(len(students), LISTED_N_STUDENTS - ACTUAL_ATTENDED_LECTURE_N_STUDENTS, replace=False)\n",
    "\n",
    "print('Number of Students with cheater(s): {}'.format(len(students)))\n",
    "print('Random cheater(s):\\n{}'.format(students[index]))"
   ]
  }
 ],
 "metadata": {
  "kernelspec": {
   "display_name": "Python 3",
   "language": "python",
   "name": "python3"
  },
  "language_info": {
   "codemirror_mode": {
    "name": "ipython",
    "version": 3
   },
   "file_extension": ".py",
   "mimetype": "text/x-python",
   "name": "python",
   "nbconvert_exporter": "python",
   "pygments_lexer": "ipython3",
   "version": "3.8.5"
  }
 },
 "nbformat": 4,
 "nbformat_minor": 4
}
